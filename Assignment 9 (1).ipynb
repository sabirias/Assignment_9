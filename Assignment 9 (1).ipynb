{
 "cells": [
  {
   "cell_type": "code",
   "execution_count": 1,
   "id": "98c4f7db-2e7a-4052-a507-147a6675a09d",
   "metadata": {},
   "outputs": [],
   "source": [
    "                                           Assignment :- 9"
   ]
  },
  {
   "cell_type": "code",
   "execution_count": null,
   "id": "65da2306-613f-44e9-8d9f-78243e6ca58b",
   "metadata": {},
   "outputs": [],
   "source": [
    "Q1. What is Abstraction in OOps? Explain with an example."
   ]
  },
  {
   "cell_type": "code",
   "execution_count": null,
   "id": "ddc618bc-f096-469a-83cd-6389be92f38c",
   "metadata": {},
   "outputs": [],
   "source": [
    "ANS:- Abstraction is one of the four fundamental principles of Object-Oriented Programming (OOP),\n",
    "      along with encapsulation, inheritance, and polymorphism. Abstraction involves simplifying complex\n",
    "      systems by modeling classes based on the essential properties and behaviors they share, while\n",
    "      hiding the unnecessary details.\n",
    "\n",
    "      In simpler terms, abstraction allows you to focus on the essential features of an object while \n",
    "      ignoring the non-essential details. It helps in creating a more understandable and manageable \n",
    "      representation of real-world entities in your software."
   ]
  },
  {
   "cell_type": "code",
   "execution_count": 7,
   "id": "1de0a19c-8f7c-4252-87e8-fae46bfa792c",
   "metadata": {},
   "outputs": [],
   "source": [
    "import abc\n",
    "\n",
    "class school:\n",
    "\n",
    "    @abc.abstractmethod\n",
    "    def student_details(self):\n",
    "        pass\n",
    "\n",
    "    @abc.abstractmethod\n",
    "    def teachers_details(self):\n",
    "        pass\n",
    "\n",
    "    @abc.abstractmethod\n",
    "    def marks_details(self):\n",
    "        pass"
   ]
  },
  {
   "cell_type": "code",
   "execution_count": 8,
   "id": "e32e3ff5-4205-4a49-afd7-01be2eb9dac4",
   "metadata": {},
   "outputs": [],
   "source": [
    "class school_details(school):\n",
    "\n",
    "    def student_details(self):\n",
    "        return \"students are very good and they do there work at mentioned time.\"\n",
    "    def teachers_details(self):\n",
    "        return \"the parents of the students are also good in nature and they pay school fee on time.\"\n",
    "    def marks_details(self):\n",
    "        return \"our school students are take good marks in examination\""
   ]
  },
  {
   "cell_type": "code",
   "execution_count": 9,
   "id": "95ac9769-e309-4af2-9a5a-89e77e2f0952",
   "metadata": {},
   "outputs": [],
   "source": [
    "obj = school_details()"
   ]
  },
  {
   "cell_type": "code",
   "execution_count": 10,
   "id": "4b708d04-57a3-4473-bddc-bfaac2634ee5",
   "metadata": {},
   "outputs": [
    {
     "data": {
      "text/plain": [
       "'the parents of the students are also good in nature and they pay school fee on time.'"
      ]
     },
     "execution_count": 10,
     "metadata": {},
     "output_type": "execute_result"
    }
   ],
   "source": [
    "obj.teachers_details()"
   ]
  },
  {
   "cell_type": "code",
   "execution_count": null,
   "id": "a6ff105d-64e2-4ea0-847c-48160fdc54cb",
   "metadata": {},
   "outputs": [],
   "source": [
    "Q2. Differentiate between Abstraction and Encapsulation. Explain with an example.\n",
    "\n",
    "ANS:- Abstraction:\n",
    "      Definition: Abstraction is the process of hiding the complex implementation details and\n",
    "      showing only the essential features of an object.\n",
    "\n",
    "      Key Points:\n",
    "      1) Abstraction focuses on what an object does rather than how it achieves its functionality.\n",
    "      2) It involves creating abstract classes and abstract methods that provide a blueprint for subclasses to follow.\n",
    "      3) Abstraction helps in simplifying complex systems by modeling classes based on their essential properties and behaviors."
   ]
  },
  {
   "cell_type": "code",
   "execution_count": 12,
   "id": "ac3fcd3c-9736-4a99-ad53-ce0765819ec6",
   "metadata": {},
   "outputs": [
    {
     "name": "stdout",
     "output_type": "stream",
     "text": [
      "TV is powered on\n",
      "Changed to channel 3\n",
      "TV is powered off\n"
     ]
    }
   ],
   "source": [
    "import abc\n",
    "\n",
    "# Abstract class representing a Remote Control\n",
    "class RemoteControl:\n",
    "    \n",
    "    @abc.abstractmethod\n",
    "    def power_on(self):\n",
    "        pass\n",
    "\n",
    "    @abc.abstractmethod\n",
    "    def power_off(self):\n",
    "        pass\n",
    "\n",
    "    @abc.abstractmethod\n",
    "    def change_channel(self, channel):\n",
    "        pass\n",
    "\n",
    "# Concrete class representing a TV Remote Control\n",
    "class TVRemoteControl(RemoteControl):\n",
    "    def power_on(self):\n",
    "        print(\"TV is powered on\")\n",
    "\n",
    "    def power_off(self):\n",
    "        print(\"TV is powered off\")\n",
    "\n",
    "    def change_channel(self, channel):\n",
    "        print(f\"Changed to channel {channel}\")\n",
    "\n",
    "tv = TV()\n",
    "tv.power_on()\n",
    "tv.change_channel(3)\n",
    "tv.power_off()\n"
   ]
  },
  {
   "cell_type": "code",
   "execution_count": null,
   "id": "6e990db0-e057-4a2f-a28e-796bb929b6ec",
   "metadata": {},
   "outputs": [],
   "source": [
    "Encapsulation:\n",
    "Definition: Encapsulation is the bundling of data (attributes) and methods (functions)\n",
    "that operate on the data into a single unit, known as a class. It restricts access to \n",
    "some of the object's components and prevents the accidental modification of the object's state.\n",
    "\n",
    "Key Points:\n",
    "1) Encapsulation helps in organizing code by grouping related data and methods into a single unit (class).\n",
    "2) It involves defining the internal state (attributes) of an object and controlling access to that state through methods.\n",
    "3) Encapsulation promotes information hiding, protecting the internal details of an object from external interference."
   ]
  },
  {
   "cell_type": "code",
   "execution_count": 11,
   "id": "762fecf7-dc0d-4295-b848-716d2decf7a8",
   "metadata": {},
   "outputs": [
    {
     "name": "stdout",
     "output_type": "stream",
     "text": [
      "TV is powered on\n",
      "Changed to channel 3\n",
      "TV is powered off\n"
     ]
    }
   ],
   "source": [
    "class TV:\n",
    "    def __init__(self):\n",
    "        self.powered_on = False\n",
    "        self.current_channel = 1\n",
    "\n",
    "    def power_on(self):\n",
    "        self.powered_on = True\n",
    "        print(\"TV is powered on\")\n",
    "\n",
    "    def power_off(self):\n",
    "        self.powered_on = False\n",
    "        print(\"TV is powered off\")\n",
    "\n",
    "    def change_channel(self, channel):\n",
    "        if self.powered_on:\n",
    "            self.current_channel = channel\n",
    "            print(f\"Changed to channel {channel}\")\n",
    "        else:\n",
    "            print(\"TV is not powered on\")\n",
    "\n",
    "# Client code\n",
    "tv = TV()\n",
    "tv.power_on()\n",
    "tv.change_channel(3)\n",
    "tv.power_off()\n"
   ]
  },
  {
   "cell_type": "code",
   "execution_count": null,
   "id": "bf2fd68b-960c-40f4-be84-803b1cda2cd2",
   "metadata": {},
   "outputs": [],
   "source": [
    "Q3) What is abc module in python? Why is it used?\n",
    "\n",
    "ANS:-  The abc module in Python stands for \"Abstract Base Classes.\" It provides the infrastructure\n",
    "       for defining abstract base classes in Python. An abstract base class is a class that cannot \n",
    "       be instantiated and is meant to be subclassed by other classes. Abstract base classes can define\n",
    "       abstract methods, which must be implemented by any concrete (non-abstract) subclasses."
   ]
  },
  {
   "cell_type": "code",
   "execution_count": null,
   "id": "72b905ca-3486-4d15-94cc-56003d969e86",
   "metadata": {},
   "outputs": [],
   "source": [
    "Q4) How can we achieve data abstraction?\n",
    "\n",
    "ANS:- There are two main ways to achieve data abstraction in Python:\n",
    "\n",
    "1. Encapsulation:\n",
    "   Encapsulation is the process of wrapping data and the methods that operate on that data into a single unit.\n",
    "   This can be done by using access modifiers, such as public, private, and protected. Public methods can be\n",
    "   accessed by any code that has access to the object, while private methods can only be accessed by methods\n",
    "   within the same class. Protected methods can be accessed by methods within the same class and by subclasses \n",
    "   of that class.\n",
    "\n",
    "2. Abstract classes:\n",
    "   Abstract classes are classes that cannot be instantiated directly. They can only be used as base classes for\n",
    "   other classes. Abstract classes can contain abstract methods, which are methods that do not have a body.\n",
    "   Abstract methods must be implemented by all subclasses of the abstract class."
   ]
  },
  {
   "cell_type": "code",
   "execution_count": null,
   "id": "3d129ef4-7cd7-4b5b-aafa-187f453c75a4",
   "metadata": {},
   "outputs": [],
   "source": [
    "Q5\n",
    "Can we create an instance of an abstract class? Explain your answer."
   ]
  }
 ],
 "metadata": {
  "kernelspec": {
   "display_name": "Python 3 (ipykernel)",
   "language": "python",
   "name": "python3"
  },
  "language_info": {
   "codemirror_mode": {
    "name": "ipython",
    "version": 3
   },
   "file_extension": ".py",
   "mimetype": "text/x-python",
   "name": "python",
   "nbconvert_exporter": "python",
   "pygments_lexer": "ipython3",
   "version": "3.12.0"
  }
 },
 "nbformat": 4,
 "nbformat_minor": 5
}
